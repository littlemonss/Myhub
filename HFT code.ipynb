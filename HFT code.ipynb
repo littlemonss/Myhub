{
  "nbformat": 4,
  "nbformat_minor": 0,
  "metadata": {
    "colab": {
      "name": "updatev10-2001116Functions.ipynb",
      "provenance": [],
      "collapsed_sections": []
    },
    "kernelspec": {
      "name": "python3",
      "display_name": "Python 3"
    }
  },
  "cells": [
    {
      "cell_type": "code",
      "metadata": {
        "id": "odnQLrq_7s8g",
        "colab": {
          "base_uri": "https://localhost:8080/"
        },
        "outputId": "ec6a3b65-f8a7-4bcb-ecdb-50eafe0d67fa"
      },
      "source": [
        "import pandas as pd\n",
        "import math\n",
        "import numpy as np\n",
        "import datetime\n",
        "\n",
        "import matplotlib.pyplot as plt\n",
        "\n",
        "import time\n",
        "import random\n",
        "\n",
        "from sklearn import linear_model\n",
        "from sklearn.model_selection import train_test_split\n",
        "from sklearn.metrics import accuracy_score, mean_squared_error\n",
        "\n",
        "from sklearn import svm\n",
        "from sklearn import preprocessing\n",
        "from sklearn.preprocessing import StandardScaler\n",
        "\n",
        "from sklearn.neural_network import MLPClassifier\n",
        "\n",
        "import tensorflow as tf\n",
        "from tensorflow.keras.models import Sequential\n",
        "from tensorflow.keras.layers import Dense, Dropout, LSTM\n",
        "\n",
        "from sklearn.metrics import r2_score\n",
        "\n",
        "import pandas_datareader.data as web\n",
        "import pprint\n",
        "import statsmodels.tsa.stattools as ts\n",
        "import statsmodels.api as sm\n",
        "import matplotlib.dates as mdates\n",
        "\n",
        "%matplotlib inline\n",
        "\n",
        "# from genetic_selection import GeneticSelectionCV   \n",
        "# I have phone verification issue. So i can't import this module"
      ],
      "execution_count": null,
      "outputs": [
        {
          "output_type": "stream",
          "text": [
            "/usr/local/lib/python3.6/dist-packages/statsmodels/tools/_testing.py:19: FutureWarning: pandas.util.testing is deprecated. Use the functions in the public API at pandas.testing instead.\n",
            "  import pandas.util.testing as tm\n"
          ],
          "name": "stderr"
        }
      ]
    },
    {
      "cell_type": "code",
      "metadata": {
        "id": "kAhG5Ztd77TG"
      },
      "source": [
        "from pydrive.auth import GoogleAuth\n",
        "from pydrive.drive import GoogleDrive\n",
        "from google.colab import auth\n",
        "from oauth2client.client import GoogleCredentials\n",
        "\n",
        "auth.authenticate_user()\n",
        "gauth = GoogleAuth()\n",
        "gauth.credentials = GoogleCredentials.get_application_default()\n",
        "drive = GoogleDrive(gauth)"
      ],
      "execution_count": null,
      "outputs": []
    },
    {
      "cell_type": "code",
      "metadata": {
        "id": "2R-lSoPF8ALE"
      },
      "source": [
        "id = \"1_71asScU8XI31EIcWF_ikPj0ihvcgfOu\"  \n",
        "file = drive.CreateFile({'id':id}) \n",
        "file.GetContentFile('DOW20200323') \n",
        "\n",
        "id = \"1raZfnsw8fsxxHQ5e5oFIM-zmmXiiWKCX\"  \n",
        "file = drive.CreateFile({'id':id}) \n",
        "file.GetContentFile('DOW20200324') "
      ],
      "execution_count": null,
      "outputs": []
    },
    {
      "cell_type": "code",
      "metadata": {
        "id": "HpC3GU2x8BCt",
        "colab": {
          "base_uri": "https://localhost:8080/"
        },
        "outputId": "7616fc53-e4bd-4d32-f54e-fd284fa9e157"
      },
      "source": [
        "import pandas as pd\n",
        "\n",
        "dow_324 = pd.read_csv('DOW20200324')\n",
        "dow_323 = pd.read_csv('DOW20200323')\n",
        "dow_323.info()"
      ],
      "execution_count": null,
      "outputs": [
        {
          "output_type": "stream",
          "text": [
            "<class 'pandas.core.frame.DataFrame'>\n",
            "RangeIndex: 78070 entries, 0 to 78069\n",
            "Data columns (total 26 columns):\n",
            " #   Column          Non-Null Count  Dtype  \n",
            "---  ------          --------------  -----  \n",
            " 0   symbol          78070 non-null  object \n",
            " 1   timestamp       78070 non-null  object \n",
            " 2   bid_price       74723 non-null  float64\n",
            " 3   bid_size        74723 non-null  float64\n",
            " 4   bid_price_lag   74723 non-null  float64\n",
            " 5   bid_size_lag    74723 non-null  float64\n",
            " 6   V_of_B          74723 non-null  float64\n",
            " 7   ask_price       74723 non-null  float64\n",
            " 8   ask_size        74723 non-null  float64\n",
            " 9   ask_price_lag   74723 non-null  float64\n",
            " 10  ask_size_lag    74723 non-null  float64\n",
            " 11  V_of_A          74723 non-null  float64\n",
            " 12  VOI             74723 non-null  float64\n",
            " 13  OIR             74723 non-null  float64\n",
            " 14  bid_ask_spread  74723 non-null  float64\n",
            " 15  VWAP_max        77455 non-null  float64\n",
            " 16  VWAP_mean       77455 non-null  float64\n",
            " 17  VWAP_min        77455 non-null  float64\n",
            " 18  size_mean       77455 non-null  float64\n",
            " 19  EWM             77455 non-null  float64\n",
            " 20  RSI             63955 non-null  float64\n",
            " 21  Stochastic      64917 non-null  float64\n",
            " 22  WilliamsR       64917 non-null  float64\n",
            " 23  MACD            77455 non-null  float64\n",
            " 24  Signal_line     77455 non-null  float64\n",
            " 25  OBV             78070 non-null  float64\n",
            "dtypes: float64(24), object(2)\n",
            "memory usage: 15.5+ MB\n"
          ],
          "name": "stdout"
        }
      ]
    },
    {
      "cell_type": "code",
      "metadata": {
        "id": "YlNo2pra8DoB"
      },
      "source": [
        "random.seed(30)\n",
        "# Get the dataframe with the corresponding x and y\n",
        "def read_stock(df, ticker=\"AAPL\", n_period=1, n_shift=-1):\n",
        "\n",
        "  df_ =df.copy()\n",
        "  dow_df = df_.replace([np.inf, -np.inf], np.nan)\n",
        "  dow_df = dow_df.dropna()\n",
        "  df_ticker = dow_df[dow_df['symbol'] == ticker]\n",
        "  df_ticker_ = df_ticker.loc[:, [\"timestamp\", \"VOI\", \"OIR\", \"bid_ask_spread\", \"EWM\", \"OBV\"]]\n",
        "  df_ticker_[\"return\"] = (df_ticker[\"VWAP_mean\"].pct_change(periods = n_period).shift(n_shift))\n",
        "  df_ticker_= df_ticker_[:-1] # Delete the missing value\n",
        "  \n",
        "  df_ticker_.set_index('timestamp', inplace=True) \n",
        "  return df_ticker_"
      ],
      "execution_count": null,
      "outputs": []
    },
    {
      "cell_type": "code",
      "metadata": {
        "id": "KnakeM9o8HAY"
      },
      "source": [
        "df_23 = read_stock(dow_323, \"WMT\", 30, -1)\n",
        "df_24 = read_stock(dow_324, \"WMT\", 30, -1)"
      ],
      "execution_count": null,
      "outputs": []
    },
    {
      "cell_type": "code",
      "metadata": {
        "id": "t6K0BfIi8KHx",
        "colab": {
          "base_uri": "https://localhost:8080/"
        },
        "outputId": "a09ab656-1eff-49fa-b668-81008618ab4d"
      },
      "source": [
        "df_23.isnull().sum()"
      ],
      "execution_count": null,
      "outputs": [
        {
          "output_type": "execute_result",
          "data": {
            "text/plain": [
              "VOI                0\n",
              "OIR                0\n",
              "bid_ask_spread     0\n",
              "EWM                0\n",
              "OBV                0\n",
              "return            29\n",
              "dtype: int64"
            ]
          },
          "metadata": {
            "tags": []
          },
          "execution_count": 7
        }
      ]
    },
    {
      "cell_type": "code",
      "metadata": {
        "id": "LQUNkOKn8Naq"
      },
      "source": [
        ""
      ],
      "execution_count": null,
      "outputs": []
    },
    {
      "cell_type": "code",
      "metadata": {
        "id": "_JTjQi038SPc"
      },
      "source": [
        "random.seed(30)\n",
        "# Basic models function\n",
        "def functions(df_X, model=\"LinearRegression\"): #(model=\"LinearRegression\", \"SVR\")\n",
        "\n",
        "  df_ = df_X.copy()\n",
        "  norm_train_data = df_.loc[:,[\"VOI\",\"OIR\", \"bid_ask_spread\", \"EWM\", \"OBV\"]] #scale df_previousDay\n",
        "  #norm_test_data = scaleData(df_previousDay, df_nextDay)[1] #scale df_nextDay\n",
        "  norm_train_target = df_[\"return\"][:, None] #y\n",
        "\n",
        "\n",
        "  from sklearn.linear_model import LinearRegression\n",
        "  from sklearn.ensemble import RandomForestRegressor\n",
        "  from sklearn.linear_model import ElasticNet\n",
        "  from sklearn.svm import SVR\n",
        "\n",
        "  if model == \"LinearRegression\":\n",
        "    reg = LinearRegression()\n",
        "    reg.fit(norm_train_data, norm_train_target)\n",
        "  \n",
        "  elif model == \"SVR\":\n",
        "    reg = SVR(C=1, gamma = 0.001, kernel='poly')\n",
        "    reg.fit(norm_train_data, norm_train_target)\n",
        "  \n",
        "  elif model == \"ElasticNet\":\n",
        "    reg = ElasticNet(alpha=1, l1_ratio=0.5, tol=0.0001)\n",
        "    reg.fit(norm_train_data, norm_train_target)\n",
        "\n",
        "  elif model == \"RandomForestRegressor\":\n",
        "    reg = RandomForestRegressor(max_depth=100, min_samples_leaf=2, min_samples_split=5)\n",
        "    reg.fit(norm_train_data, norm_train_target)\n",
        "  else:\n",
        "    return \"Error\"\n",
        "  \n",
        "  return reg"
      ],
      "execution_count": null,
      "outputs": []
    },
    {
      "cell_type": "code",
      "metadata": {
        "id": "3yXmytWy8n6U"
      },
      "source": [
        "def RF_crossval(df_Day, n_periods=1):\n",
        "    \"\"\"\n",
        "    Wrap Random Forest for reuse\n",
        "    price is the dataframe\n",
        "    periods is the percent change differences between time intervals. Default is 1 (minute)\n",
        "    \"\"\"\n",
        "    #drop blank\n",
        "    price_rf =df_Day.loc[:,[\"VOI\",\"OIR\", \"bid_ask_spread\", \"EWM\", \"OBV\", \"VWAP_mean\"]]\n",
        "    \n",
        "    #create DV. Rising is 1, unchanged or goes down is 0\n",
        "    price_rf[\"target\"]=pd.Series()\n",
        "    price_rf.loc[price_rf[\"VWAP_mean\"].pct_change(periods =n_periods)>0,\"target\"]=1 #Buy\n",
        "    price_rf.loc[price_rf[\"VWAP_mean\"].pct_change(periods =n_periods)<=0,\"target\"]=0# Sell\n",
        "\n",
        "    \n",
        "    #change infinity to N/a and drop them\n",
        "    price_rf = price_rf.replace([np.inf, -np.inf], np.nan)\n",
        "    time.sleep(1)\n",
        "    price_rf = price_rf.dropna()\n",
        "    \n",
        "    target = price_rf[\"target\"].astype(\"category\")\n",
        "    features = price_rf.loc[:,[\"VOI\",\"OIR\", \"bid_ask_spread\", \"EWM\", \"OBV\"]]\n",
        "  #df_ticker_[\"return\"] = (df_ticker[\"VWAP_mean\"].pct_change().shift(shift))\n",
        "    #create crossvalidation\n",
        "    \n",
        "    return features,target "
      ],
      "execution_count": null,
      "outputs": []
    },
    {
      "cell_type": "code",
      "metadata": {
        "id": "kMUtO9kbF1A0",
        "colab": {
          "base_uri": "https://localhost:8080/"
        },
        "outputId": "6e1b97cf-04e8-45f4-830f-c8dfc31deef4"
      },
      "source": [
        "RF_crossval(dow_324, n_periods=1)"
      ],
      "execution_count": null,
      "outputs": [
        {
          "output_type": "stream",
          "text": [
            "/usr/local/lib/python3.6/dist-packages/ipykernel_launcher.py:11: DeprecationWarning: The default dtype for empty Series will be 'object' instead of 'float64' in a future version. Specify a dtype explicitly to silence this warning.\n",
            "  # This is added back by InteractiveShellApp.init_path()\n"
          ],
          "name": "stderr"
        },
        {
          "output_type": "execute_result",
          "data": {
            "text/plain": [
              "(          VOI       OIR  bid_ask_spread         EWM    OBV\n",
              " 380     100.0  0.000000            0.18  223.610192  -49.0\n",
              " 381       0.0  0.722607           -0.07  227.919924  103.1\n",
              " 382       0.0 -1.000000            0.18  230.984298    1.0\n",
              " 383   -2400.0 -0.923077           -0.08  232.104885  651.0\n",
              " 384       0.0  0.000000           -0.14  233.300355   51.0\n",
              " ...       ...       ...             ...         ...    ...\n",
              " 78224     0.0  0.000000           55.00   37.220446    1.0\n",
              " 78225     0.0 -0.500000           55.00   37.220446    1.0\n",
              " 78226     0.0 -1.000000           55.00   37.220446    1.0\n",
              " 78227     0.0 -1.000000           55.00   37.220446    1.0\n",
              " 78228   100.0  1.000000           52.73   35.340002  -49.0\n",
              " \n",
              " [74806 rows x 5 columns], 380      0.0\n",
              " 381      1.0\n",
              " 382      1.0\n",
              " 383      1.0\n",
              " 384      1.0\n",
              "         ... \n",
              " 78224    0.0\n",
              " 78225    0.0\n",
              " 78226    0.0\n",
              " 78227    0.0\n",
              " 78228    0.0\n",
              " Name: target, Length: 74806, dtype: category\n",
              " Categories (2, float64): [0.0, 1.0])"
            ]
          },
          "metadata": {
            "tags": []
          },
          "execution_count": 10
        }
      ]
    },
    {
      "cell_type": "markdown",
      "metadata": {
        "id": "Wl62JCuB8uiu"
      },
      "source": [
        "--------"
      ]
    },
    {
      "cell_type": "code",
      "metadata": {
        "id": "MzQR0EhE8vUY"
      },
      "source": [
        "def ensemble_table(df, df_P, ticker = 'WMT', model=\"LinearRegression\"):  # df_previousDay, df_nextDay,\n",
        "\n",
        "  from sklearn import metrics\n",
        "  from math import sqrt\n",
        "  import sys\n",
        "\n",
        "\n",
        "\n",
        "  period_list = {\n",
        "    \"10 s\": 1,\n",
        "    '1 minutes':6,\n",
        "    '5 minutes':30\n",
        "}\n",
        "\n",
        "  results_col=[\"periods_name\",\"periods\",\"RMSE\", \"r2\", \n",
        "              \"mse\", \"accuracy_score\"\n",
        "            ]\n",
        "  results = pd.DataFrame(columns = results_col)\n",
        "\n",
        "\n",
        "  for key, value in period_list.items():\n",
        "    #use value in the dictionary for the period\n",
        "        \n",
        "    #norm_train_data,norm_train_target = RF_crossval(df_previousDay,n_periods = value)\n",
        "    #print(\"*\"*100)\n",
        "    #print(\"Now running....periods: \",key)\n",
        "# CNN \n",
        "\n",
        "    #cnn_model=create_cnn(norm_train_data, norm_train_target, activation_function=\"relu\")\n",
        "    #get 23 model\n",
        "    get_df = read_stock(df_P, ticker= ticker, n_period= value, n_shift=-1)\n",
        "    get_df.dropna(how = \"any\", inplace = True)\n",
        "    cnn_model=functions(get_df, model)\n",
        "    \n",
        "    get_df24 = read_stock(df, ticker= ticker, n_period= value, n_shift=-1)\n",
        "    get_df24.dropna(how = \"any\", inplace = True)\n",
        "\n",
        "    norm_test_data = get_df24.loc[:,[\"VOI\",\"OIR\", \"bid_ask_spread\", \"EWM\", \"OBV\"]] #scale df_nextDay\n",
        "    norm_test_target = get_df24[\"return\"][:, None]\n",
        "\n",
        "\n",
        "    score = [sqrt(metrics.mean_squared_error(cnn_model.predict(norm_test_data), norm_test_target)), metrics.r2_score(cnn_model.predict(norm_test_data), norm_test_target)]\n",
        "    rf_result_list = [key,value,score[0],score[1]]\n",
        "    \n",
        "    eval_result_list = rf_result_list[:]\n",
        "\n",
        "    # #-----------------------------------\n",
        "    X_test, y_test = RF_crossval(df,n_periods = value) #manipulate data for deep learning\n",
        "    predicted_y = cnn_model.predict(X_test) #prediction\n",
        "    predicted_y = np.where(np.array(predicted_y) > 0, 1, 0)\n",
        "    #print(\"Prediction results using Deep Learning is....\")\n",
        "    #print(metrics.mean_squared_error(y_test,predicted_y))\n",
        "\n",
        "  \n",
        "    # #add evaluation metrics to row\n",
        "    # a = metrics.precision_recall_fscore_support(y_test,predicted_y)\n",
        "    # for b in a:\n",
        "    #       [eval_result_list.append(q) for q in b]\n",
        "    #besides precision, recall, and fscore, append other metrics\n",
        "    eval_result_list.append(metrics.mean_squared_error(y_test,predicted_y))\n",
        "    eval_result_list.append(metrics.accuracy_score(y_test,predicted_y))\n",
        "    \n",
        "  \n",
        "    # # #add row to data frame\n",
        "    result = pd.DataFrame([eval_result_list],columns = results_col)\n",
        "    results = results.append(result,ignore_index=True)\n",
        "    # # # #empty out eval_result_list\n",
        "  return results "
      ],
      "execution_count": null,
      "outputs": []
    },
    {
      "cell_type": "code",
      "metadata": {
        "id": "FkpkqYF3_Nlg",
        "colab": {
          "base_uri": "https://localhost:8080/",
          "height": 421
        },
        "outputId": "c04d012f-6cc8-47e5-ce39-1a2edd72956a"
      },
      "source": [
        "ensemble_table(dow_324, dow_323, model=\"LinearRegression\")"
      ],
      "execution_count": null,
      "outputs": [
        {
          "output_type": "stream",
          "text": [
            "/usr/local/lib/python3.6/dist-packages/ipykernel_launcher.py:8: FutureWarning: Support for multi-dimensional indexing (e.g. `obj[:, None]`) is deprecated and will be removed in a future version.  Convert to a numpy array before indexing instead.\n",
            "  \n",
            "/usr/local/lib/python3.6/dist-packages/ipykernel_launcher.py:39: FutureWarning: Support for multi-dimensional indexing (e.g. `obj[:, None]`) is deprecated and will be removed in a future version.  Convert to a numpy array before indexing instead.\n",
            "/usr/local/lib/python3.6/dist-packages/ipykernel_launcher.py:11: DeprecationWarning: The default dtype for empty Series will be 'object' instead of 'float64' in a future version. Specify a dtype explicitly to silence this warning.\n",
            "  # This is added back by InteractiveShellApp.init_path()\n",
            "/usr/local/lib/python3.6/dist-packages/ipykernel_launcher.py:8: FutureWarning: Support for multi-dimensional indexing (e.g. `obj[:, None]`) is deprecated and will be removed in a future version.  Convert to a numpy array before indexing instead.\n",
            "  \n",
            "/usr/local/lib/python3.6/dist-packages/ipykernel_launcher.py:39: FutureWarning: Support for multi-dimensional indexing (e.g. `obj[:, None]`) is deprecated and will be removed in a future version.  Convert to a numpy array before indexing instead.\n",
            "/usr/local/lib/python3.6/dist-packages/ipykernel_launcher.py:11: DeprecationWarning: The default dtype for empty Series will be 'object' instead of 'float64' in a future version. Specify a dtype explicitly to silence this warning.\n",
            "  # This is added back by InteractiveShellApp.init_path()\n",
            "/usr/local/lib/python3.6/dist-packages/ipykernel_launcher.py:8: FutureWarning: Support for multi-dimensional indexing (e.g. `obj[:, None]`) is deprecated and will be removed in a future version.  Convert to a numpy array before indexing instead.\n",
            "  \n",
            "/usr/local/lib/python3.6/dist-packages/ipykernel_launcher.py:39: FutureWarning: Support for multi-dimensional indexing (e.g. `obj[:, None]`) is deprecated and will be removed in a future version.  Convert to a numpy array before indexing instead.\n",
            "/usr/local/lib/python3.6/dist-packages/ipykernel_launcher.py:11: DeprecationWarning: The default dtype for empty Series will be 'object' instead of 'float64' in a future version. Specify a dtype explicitly to silence this warning.\n",
            "  # This is added back by InteractiveShellApp.init_path()\n"
          ],
          "name": "stderr"
        },
        {
          "output_type": "execute_result",
          "data": {
            "text/html": [
              "<div>\n",
              "<style scoped>\n",
              "    .dataframe tbody tr th:only-of-type {\n",
              "        vertical-align: middle;\n",
              "    }\n",
              "\n",
              "    .dataframe tbody tr th {\n",
              "        vertical-align: top;\n",
              "    }\n",
              "\n",
              "    .dataframe thead th {\n",
              "        text-align: right;\n",
              "    }\n",
              "</style>\n",
              "<table border=\"1\" class=\"dataframe\">\n",
              "  <thead>\n",
              "    <tr style=\"text-align: right;\">\n",
              "      <th></th>\n",
              "      <th>periods_name</th>\n",
              "      <th>periods</th>\n",
              "      <th>RMSE</th>\n",
              "      <th>r2</th>\n",
              "      <th>mse</th>\n",
              "      <th>accuracy_score</th>\n",
              "    </tr>\n",
              "  </thead>\n",
              "  <tbody>\n",
              "    <tr>\n",
              "      <th>0</th>\n",
              "      <td>10 s</td>\n",
              "      <td>1</td>\n",
              "      <td>0.000371</td>\n",
              "      <td>-522.003000</td>\n",
              "      <td>0.418442</td>\n",
              "      <td>0.581558</td>\n",
              "    </tr>\n",
              "    <tr>\n",
              "      <th>1</th>\n",
              "      <td>1 minutes</td>\n",
              "      <td>6</td>\n",
              "      <td>0.000946</td>\n",
              "      <td>-42.925573</td>\n",
              "      <td>0.472034</td>\n",
              "      <td>0.527966</td>\n",
              "    </tr>\n",
              "    <tr>\n",
              "      <th>2</th>\n",
              "      <td>5 minutes</td>\n",
              "      <td>30</td>\n",
              "      <td>0.001681</td>\n",
              "      <td>-5.904082</td>\n",
              "      <td>0.487100</td>\n",
              "      <td>0.512900</td>\n",
              "    </tr>\n",
              "  </tbody>\n",
              "</table>\n",
              "</div>"
            ],
            "text/plain": [
              "  periods_name periods      RMSE          r2       mse  accuracy_score\n",
              "0         10 s       1  0.000371 -522.003000  0.418442        0.581558\n",
              "1    1 minutes       6  0.000946  -42.925573  0.472034        0.527966\n",
              "2    5 minutes      30  0.001681   -5.904082  0.487100        0.512900"
            ]
          },
          "metadata": {
            "tags": []
          },
          "execution_count": 12
        }
      ]
    },
    {
      "cell_type": "code",
      "metadata": {
        "id": "79NrumktXhY6",
        "colab": {
          "base_uri": "https://localhost:8080/",
          "height": 421
        },
        "outputId": "c7431c85-feb5-4b32-fb79-797f91e65873"
      },
      "source": [
        "ensemble_table(dow_324, dow_323, model=\"ElasticNet\")"
      ],
      "execution_count": null,
      "outputs": [
        {
          "output_type": "stream",
          "text": [
            "/usr/local/lib/python3.6/dist-packages/ipykernel_launcher.py:8: FutureWarning: Support for multi-dimensional indexing (e.g. `obj[:, None]`) is deprecated and will be removed in a future version.  Convert to a numpy array before indexing instead.\n",
            "  \n",
            "/usr/local/lib/python3.6/dist-packages/ipykernel_launcher.py:39: FutureWarning: Support for multi-dimensional indexing (e.g. `obj[:, None]`) is deprecated and will be removed in a future version.  Convert to a numpy array before indexing instead.\n",
            "/usr/local/lib/python3.6/dist-packages/ipykernel_launcher.py:11: DeprecationWarning: The default dtype for empty Series will be 'object' instead of 'float64' in a future version. Specify a dtype explicitly to silence this warning.\n",
            "  # This is added back by InteractiveShellApp.init_path()\n",
            "/usr/local/lib/python3.6/dist-packages/ipykernel_launcher.py:8: FutureWarning: Support for multi-dimensional indexing (e.g. `obj[:, None]`) is deprecated and will be removed in a future version.  Convert to a numpy array before indexing instead.\n",
            "  \n",
            "/usr/local/lib/python3.6/dist-packages/ipykernel_launcher.py:39: FutureWarning: Support for multi-dimensional indexing (e.g. `obj[:, None]`) is deprecated and will be removed in a future version.  Convert to a numpy array before indexing instead.\n",
            "/usr/local/lib/python3.6/dist-packages/ipykernel_launcher.py:11: DeprecationWarning: The default dtype for empty Series will be 'object' instead of 'float64' in a future version. Specify a dtype explicitly to silence this warning.\n",
            "  # This is added back by InteractiveShellApp.init_path()\n",
            "/usr/local/lib/python3.6/dist-packages/ipykernel_launcher.py:8: FutureWarning: Support for multi-dimensional indexing (e.g. `obj[:, None]`) is deprecated and will be removed in a future version.  Convert to a numpy array before indexing instead.\n",
            "  \n",
            "/usr/local/lib/python3.6/dist-packages/ipykernel_launcher.py:39: FutureWarning: Support for multi-dimensional indexing (e.g. `obj[:, None]`) is deprecated and will be removed in a future version.  Convert to a numpy array before indexing instead.\n",
            "/usr/local/lib/python3.6/dist-packages/ipykernel_launcher.py:11: DeprecationWarning: The default dtype for empty Series will be 'object' instead of 'float64' in a future version. Specify a dtype explicitly to silence this warning.\n",
            "  # This is added back by InteractiveShellApp.init_path()\n"
          ],
          "name": "stderr"
        },
        {
          "output_type": "execute_result",
          "data": {
            "text/html": [
              "<div>\n",
              "<style scoped>\n",
              "    .dataframe tbody tr th:only-of-type {\n",
              "        vertical-align: middle;\n",
              "    }\n",
              "\n",
              "    .dataframe tbody tr th {\n",
              "        vertical-align: top;\n",
              "    }\n",
              "\n",
              "    .dataframe thead th {\n",
              "        text-align: right;\n",
              "    }\n",
              "</style>\n",
              "<table border=\"1\" class=\"dataframe\">\n",
              "  <thead>\n",
              "    <tr style=\"text-align: right;\">\n",
              "      <th></th>\n",
              "      <th>periods_name</th>\n",
              "      <th>periods</th>\n",
              "      <th>RMSE</th>\n",
              "      <th>r2</th>\n",
              "      <th>mse</th>\n",
              "      <th>accuracy_score</th>\n",
              "    </tr>\n",
              "  </thead>\n",
              "  <tbody>\n",
              "    <tr>\n",
              "      <th>0</th>\n",
              "      <td>10 s</td>\n",
              "      <td>1</td>\n",
              "      <td>0.000371</td>\n",
              "      <td>0.000000e+00</td>\n",
              "      <td>0.226733</td>\n",
              "      <td>0.773267</td>\n",
              "    </tr>\n",
              "    <tr>\n",
              "      <th>1</th>\n",
              "      <td>1 minutes</td>\n",
              "      <td>6</td>\n",
              "      <td>0.000950</td>\n",
              "      <td>-3.141519e+35</td>\n",
              "      <td>0.451849</td>\n",
              "      <td>0.548151</td>\n",
              "    </tr>\n",
              "    <tr>\n",
              "      <th>2</th>\n",
              "      <td>5 minutes</td>\n",
              "      <td>30</td>\n",
              "      <td>0.001677</td>\n",
              "      <td>0.000000e+00</td>\n",
              "      <td>0.582279</td>\n",
              "      <td>0.417721</td>\n",
              "    </tr>\n",
              "  </tbody>\n",
              "</table>\n",
              "</div>"
            ],
            "text/plain": [
              "  periods_name periods      RMSE            r2       mse  accuracy_score\n",
              "0         10 s       1  0.000371  0.000000e+00  0.226733        0.773267\n",
              "1    1 minutes       6  0.000950 -3.141519e+35  0.451849        0.548151\n",
              "2    5 minutes      30  0.001677  0.000000e+00  0.582279        0.417721"
            ]
          },
          "metadata": {
            "tags": []
          },
          "execution_count": 13
        }
      ]
    },
    {
      "cell_type": "code",
      "metadata": {
        "id": "u2bOg8kZTBeu",
        "colab": {
          "base_uri": "https://localhost:8080/",
          "height": 525
        },
        "outputId": "55f087a8-a54e-42cb-8ecd-ea9f98440fd2"
      },
      "source": [
        "ensemble_table(dow_324, dow_323, model=\"SVR\")"
      ],
      "execution_count": null,
      "outputs": [
        {
          "output_type": "stream",
          "text": [
            "/usr/local/lib/python3.6/dist-packages/ipykernel_launcher.py:8: FutureWarning: Support for multi-dimensional indexing (e.g. `obj[:, None]`) is deprecated and will be removed in a future version.  Convert to a numpy array before indexing instead.\n",
            "  \n",
            "/usr/local/lib/python3.6/dist-packages/sklearn/utils/validation.py:760: DataConversionWarning: A column-vector y was passed when a 1d array was expected. Please change the shape of y to (n_samples, ), for example using ravel().\n",
            "  y = column_or_1d(y, warn=True)\n",
            "/usr/local/lib/python3.6/dist-packages/ipykernel_launcher.py:39: FutureWarning: Support for multi-dimensional indexing (e.g. `obj[:, None]`) is deprecated and will be removed in a future version.  Convert to a numpy array before indexing instead.\n",
            "/usr/local/lib/python3.6/dist-packages/ipykernel_launcher.py:11: DeprecationWarning: The default dtype for empty Series will be 'object' instead of 'float64' in a future version. Specify a dtype explicitly to silence this warning.\n",
            "  # This is added back by InteractiveShellApp.init_path()\n",
            "/usr/local/lib/python3.6/dist-packages/ipykernel_launcher.py:8: FutureWarning: Support for multi-dimensional indexing (e.g. `obj[:, None]`) is deprecated and will be removed in a future version.  Convert to a numpy array before indexing instead.\n",
            "  \n",
            "/usr/local/lib/python3.6/dist-packages/sklearn/utils/validation.py:760: DataConversionWarning: A column-vector y was passed when a 1d array was expected. Please change the shape of y to (n_samples, ), for example using ravel().\n",
            "  y = column_or_1d(y, warn=True)\n",
            "/usr/local/lib/python3.6/dist-packages/ipykernel_launcher.py:39: FutureWarning: Support for multi-dimensional indexing (e.g. `obj[:, None]`) is deprecated and will be removed in a future version.  Convert to a numpy array before indexing instead.\n",
            "/usr/local/lib/python3.6/dist-packages/ipykernel_launcher.py:11: DeprecationWarning: The default dtype for empty Series will be 'object' instead of 'float64' in a future version. Specify a dtype explicitly to silence this warning.\n",
            "  # This is added back by InteractiveShellApp.init_path()\n",
            "/usr/local/lib/python3.6/dist-packages/ipykernel_launcher.py:8: FutureWarning: Support for multi-dimensional indexing (e.g. `obj[:, None]`) is deprecated and will be removed in a future version.  Convert to a numpy array before indexing instead.\n",
            "  \n",
            "/usr/local/lib/python3.6/dist-packages/sklearn/utils/validation.py:760: DataConversionWarning: A column-vector y was passed when a 1d array was expected. Please change the shape of y to (n_samples, ), for example using ravel().\n",
            "  y = column_or_1d(y, warn=True)\n",
            "/usr/local/lib/python3.6/dist-packages/ipykernel_launcher.py:39: FutureWarning: Support for multi-dimensional indexing (e.g. `obj[:, None]`) is deprecated and will be removed in a future version.  Convert to a numpy array before indexing instead.\n",
            "/usr/local/lib/python3.6/dist-packages/ipykernel_launcher.py:11: DeprecationWarning: The default dtype for empty Series will be 'object' instead of 'float64' in a future version. Specify a dtype explicitly to silence this warning.\n",
            "  # This is added back by InteractiveShellApp.init_path()\n"
          ],
          "name": "stderr"
        },
        {
          "output_type": "execute_result",
          "data": {
            "text/html": [
              "<div>\n",
              "<style scoped>\n",
              "    .dataframe tbody tr th:only-of-type {\n",
              "        vertical-align: middle;\n",
              "    }\n",
              "\n",
              "    .dataframe tbody tr th {\n",
              "        vertical-align: top;\n",
              "    }\n",
              "\n",
              "    .dataframe thead th {\n",
              "        text-align: right;\n",
              "    }\n",
              "</style>\n",
              "<table border=\"1\" class=\"dataframe\">\n",
              "  <thead>\n",
              "    <tr style=\"text-align: right;\">\n",
              "      <th></th>\n",
              "      <th>periods_name</th>\n",
              "      <th>periods</th>\n",
              "      <th>RMSE</th>\n",
              "      <th>r2</th>\n",
              "      <th>mse</th>\n",
              "      <th>accuracy_score</th>\n",
              "    </tr>\n",
              "  </thead>\n",
              "  <tbody>\n",
              "    <tr>\n",
              "      <th>0</th>\n",
              "      <td>10 s</td>\n",
              "      <td>1</td>\n",
              "      <td>0.003470</td>\n",
              "      <td>0.0</td>\n",
              "      <td>0.773267</td>\n",
              "      <td>0.226733</td>\n",
              "    </tr>\n",
              "    <tr>\n",
              "      <th>1</th>\n",
              "      <td>1 minutes</td>\n",
              "      <td>6</td>\n",
              "      <td>0.003255</td>\n",
              "      <td>0.0</td>\n",
              "      <td>0.548151</td>\n",
              "      <td>0.451849</td>\n",
              "    </tr>\n",
              "    <tr>\n",
              "      <th>2</th>\n",
              "      <td>5 minutes</td>\n",
              "      <td>30</td>\n",
              "      <td>0.002784</td>\n",
              "      <td>0.0</td>\n",
              "      <td>0.417721</td>\n",
              "      <td>0.582279</td>\n",
              "    </tr>\n",
              "  </tbody>\n",
              "</table>\n",
              "</div>"
            ],
            "text/plain": [
              "  periods_name periods      RMSE   r2       mse  accuracy_score\n",
              "0         10 s       1  0.003470  0.0  0.773267        0.226733\n",
              "1    1 minutes       6  0.003255  0.0  0.548151        0.451849\n",
              "2    5 minutes      30  0.002784  0.0  0.417721        0.582279"
            ]
          },
          "metadata": {
            "tags": []
          },
          "execution_count": 14
        }
      ]
    },
    {
      "cell_type": "code",
      "metadata": {
        "id": "aO3NHEoWXl38",
        "colab": {
          "base_uri": "https://localhost:8080/",
          "height": 473
        },
        "outputId": "3101a7bd-7973-413a-9ca3-fae03a26d0ce"
      },
      "source": [
        "ensemble_table(dow_324, dow_323, model=\"RandomForestRegressor\")"
      ],
      "execution_count": null,
      "outputs": [
        {
          "output_type": "stream",
          "text": [
            "/usr/local/lib/python3.6/dist-packages/ipykernel_launcher.py:8: FutureWarning: Support for multi-dimensional indexing (e.g. `obj[:, None]`) is deprecated and will be removed in a future version.  Convert to a numpy array before indexing instead.\n",
            "  \n",
            "/usr/local/lib/python3.6/dist-packages/ipykernel_launcher.py:30: DataConversionWarning: A column-vector y was passed when a 1d array was expected. Please change the shape of y to (n_samples,), for example using ravel().\n",
            "/usr/local/lib/python3.6/dist-packages/ipykernel_launcher.py:39: FutureWarning: Support for multi-dimensional indexing (e.g. `obj[:, None]`) is deprecated and will be removed in a future version.  Convert to a numpy array before indexing instead.\n",
            "/usr/local/lib/python3.6/dist-packages/ipykernel_launcher.py:11: DeprecationWarning: The default dtype for empty Series will be 'object' instead of 'float64' in a future version. Specify a dtype explicitly to silence this warning.\n",
            "  # This is added back by InteractiveShellApp.init_path()\n",
            "/usr/local/lib/python3.6/dist-packages/ipykernel_launcher.py:8: FutureWarning: Support for multi-dimensional indexing (e.g. `obj[:, None]`) is deprecated and will be removed in a future version.  Convert to a numpy array before indexing instead.\n",
            "  \n",
            "/usr/local/lib/python3.6/dist-packages/ipykernel_launcher.py:30: DataConversionWarning: A column-vector y was passed when a 1d array was expected. Please change the shape of y to (n_samples,), for example using ravel().\n",
            "/usr/local/lib/python3.6/dist-packages/ipykernel_launcher.py:39: FutureWarning: Support for multi-dimensional indexing (e.g. `obj[:, None]`) is deprecated and will be removed in a future version.  Convert to a numpy array before indexing instead.\n",
            "/usr/local/lib/python3.6/dist-packages/ipykernel_launcher.py:11: DeprecationWarning: The default dtype for empty Series will be 'object' instead of 'float64' in a future version. Specify a dtype explicitly to silence this warning.\n",
            "  # This is added back by InteractiveShellApp.init_path()\n",
            "/usr/local/lib/python3.6/dist-packages/ipykernel_launcher.py:8: FutureWarning: Support for multi-dimensional indexing (e.g. `obj[:, None]`) is deprecated and will be removed in a future version.  Convert to a numpy array before indexing instead.\n",
            "  \n",
            "/usr/local/lib/python3.6/dist-packages/ipykernel_launcher.py:30: DataConversionWarning: A column-vector y was passed when a 1d array was expected. Please change the shape of y to (n_samples,), for example using ravel().\n",
            "/usr/local/lib/python3.6/dist-packages/ipykernel_launcher.py:39: FutureWarning: Support for multi-dimensional indexing (e.g. `obj[:, None]`) is deprecated and will be removed in a future version.  Convert to a numpy array before indexing instead.\n",
            "/usr/local/lib/python3.6/dist-packages/ipykernel_launcher.py:11: DeprecationWarning: The default dtype for empty Series will be 'object' instead of 'float64' in a future version. Specify a dtype explicitly to silence this warning.\n",
            "  # This is added back by InteractiveShellApp.init_path()\n"
          ],
          "name": "stderr"
        },
        {
          "output_type": "execute_result",
          "data": {
            "text/html": [
              "<div>\n",
              "<style scoped>\n",
              "    .dataframe tbody tr th:only-of-type {\n",
              "        vertical-align: middle;\n",
              "    }\n",
              "\n",
              "    .dataframe tbody tr th {\n",
              "        vertical-align: top;\n",
              "    }\n",
              "\n",
              "    .dataframe thead th {\n",
              "        text-align: right;\n",
              "    }\n",
              "</style>\n",
              "<table border=\"1\" class=\"dataframe\">\n",
              "  <thead>\n",
              "    <tr style=\"text-align: right;\">\n",
              "      <th></th>\n",
              "      <th>periods_name</th>\n",
              "      <th>periods</th>\n",
              "      <th>RMSE</th>\n",
              "      <th>r2</th>\n",
              "      <th>mse</th>\n",
              "      <th>accuracy_score</th>\n",
              "    </tr>\n",
              "  </thead>\n",
              "  <tbody>\n",
              "    <tr>\n",
              "      <th>0</th>\n",
              "      <td>10 s</td>\n",
              "      <td>1</td>\n",
              "      <td>0.000371</td>\n",
              "      <td>-1.048287e+06</td>\n",
              "      <td>0.226747</td>\n",
              "      <td>0.773253</td>\n",
              "    </tr>\n",
              "    <tr>\n",
              "      <th>1</th>\n",
              "      <td>1 minutes</td>\n",
              "      <td>6</td>\n",
              "      <td>0.000940</td>\n",
              "      <td>-4.134482e+02</td>\n",
              "      <td>0.481766</td>\n",
              "      <td>0.518234</td>\n",
              "    </tr>\n",
              "    <tr>\n",
              "      <th>2</th>\n",
              "      <td>5 minutes</td>\n",
              "      <td>30</td>\n",
              "      <td>0.001642</td>\n",
              "      <td>-8.319044e+00</td>\n",
              "      <td>0.480082</td>\n",
              "      <td>0.519918</td>\n",
              "    </tr>\n",
              "  </tbody>\n",
              "</table>\n",
              "</div>"
            ],
            "text/plain": [
              "  periods_name periods      RMSE            r2       mse  accuracy_score\n",
              "0         10 s       1  0.000371 -1.048287e+06  0.226747        0.773253\n",
              "1    1 minutes       6  0.000940 -4.134482e+02  0.481766        0.518234\n",
              "2    5 minutes      30  0.001642 -8.319044e+00  0.480082        0.519918"
            ]
          },
          "metadata": {
            "tags": []
          },
          "execution_count": 15
        }
      ]
    },
    {
      "cell_type": "markdown",
      "metadata": {
        "id": "6tlVAhtMY35f"
      },
      "source": [
        "## cnn model"
      ]
    },
    {
      "cell_type": "code",
      "metadata": {
        "id": "jVxPSMGTZenh"
      },
      "source": [
        "def create_cnn(df_P, n_periods=1, activation_function=\"relu\"):\n",
        "\n",
        "\n",
        "  # norm_train_data = np.expand_dims(RF_crossval(df,n_periods=1)[0], axis=-1)\n",
        "  # norm_train_target = RF_crossval(df,n_periods=1)[1]\n",
        "  norm_train_data = df_P.loc[:,[\"VOI\",\"OIR\", \"bid_ask_spread\", \"EWM\", \"OBV\"]] #scale df_previousDay\n",
        "  norm_train_data = np.expand_dims(norm_train_data, axis=-1)\n",
        "  #norm_test_data = scaleData(df_previousDay, df_nextDay)[1] #scale df_nextDay\n",
        "  norm_train_target = df_P[\"return\"][:, None]\n",
        "\n",
        "\n",
        "  from keras.layers import Dense, Conv1D, MaxPooling1D, Flatten\n",
        "  model = Sequential()\n",
        "  model.add(Conv1D(50, kernel_size=1, activation=activation_function, input_shape=(5,1)))\n",
        "  model.add(MaxPooling1D())\n",
        "  model.add(Conv1D(20, kernel_size=1, activation=activation_function))\n",
        "  model.add(MaxPooling1D())\n",
        "  model.add(Dropout(0.5))\n",
        "  model.add(Flatten())\n",
        "  model.add(Dense(1, activation=activation_function))\n",
        "  model.compile(loss='mse', optimizer='SGD', metrics=['accuracy'])  #'rmsprop'\n",
        "  # Fit 323 data\n",
        "  model.fit(norm_train_data, norm_train_target, \n",
        "                    epochs=10, batch_size=100)\n",
        "\n",
        "  return model"
      ],
      "execution_count": null,
      "outputs": []
    },
    {
      "cell_type": "code",
      "metadata": {
        "id": "dwhs4QE7cmCW"
      },
      "source": [
        "#create_cnn(get_df, activation_function=\"relu\")"
      ],
      "execution_count": null,
      "outputs": []
    },
    {
      "cell_type": "code",
      "metadata": {
        "id": "Kpe0XzzdoiLx"
      },
      "source": [
        "def cnn_table(df, df_P, ticker = 'WMT', afunc=\"relu\"):  # df_previousDay, df_nextDay,\n",
        "\n",
        "  from sklearn import metrics\n",
        "  from math import sqrt\n",
        "  import sys\n",
        "\n",
        "\n",
        "\n",
        "  period_list = {\n",
        "    \"10 s\": 1,\n",
        "    '1 minutes':6,\n",
        "    '5 minutes':30\n",
        "}\n",
        "\n",
        "  results_col=[\"periods_name\",\"periods\",\"RMSE\", \"r2\", \n",
        "              \"mse\", \"accuracy_score\"\n",
        "            ]\n",
        "  results = pd.DataFrame(columns = results_col)\n",
        "\n",
        "\n",
        "  for key, value in period_list.items():\n",
        "    #use value in the dictionary for the period\n",
        "        \n",
        "    #norm_train_data,norm_train_target = RF_crossval(df_previousDay,n_periods = value)\n",
        "    #print(\"*\"*100)\n",
        "    #print(\"Now running....periods: \",key)\n",
        "# CNN \n",
        "\n",
        "    #cnn_model=create_cnn(norm_train_data, norm_train_target, activation_function=\"relu\")\n",
        "    #get 23 model\n",
        "    get_df = read_stock(df_P, ticker= ticker, n_period= value, n_shift=-1)\n",
        "    get_df.dropna(how = \"any\", inplace = True)\n",
        "    cnn_model=create_cnn(get_df, activation_function=afunc)\n",
        "\n",
        "    \n",
        "    get_df24 = read_stock(df, ticker= ticker, n_period= value, n_shift=-1)\n",
        "    get_df24.dropna(how = \"any\", inplace = True)\n",
        "\n",
        "    norm_test_data = get_df24.loc[:,[\"VOI\",\"OIR\", \"bid_ask_spread\", \"EWM\", \"OBV\"]] #scale df_nextDay\n",
        "    norm_test_data = np.expand_dims(norm_test_data, axis=-1)\n",
        "    norm_test_target = get_df24[\"return\"][:, None]\n",
        "\n",
        "\n",
        "    score = [sqrt(metrics.mean_squared_error(cnn_model.predict(norm_test_data), norm_test_target)), metrics.r2_score(cnn_model.predict(norm_test_data), norm_test_target)]\n",
        "    rf_result_list = [key,value,score[0],score[1]]\n",
        "    \n",
        "    eval_result_list = rf_result_list[:]\n",
        "\n",
        "    # #-----------------------------------\n",
        "    X_test, y_test = RF_crossval(df,n_periods = value) #manipulate data for deep learning\n",
        "    X_test = np.expand_dims(X_test, axis=-1)\n",
        "    predicted_y = cnn_model.predict(X_test) #prediction\n",
        "    predicted_y = np.where(np.array(predicted_y) > 0, 1, 0)\n",
        "    #print(\"Prediction results using Deep Learning is....\")\n",
        "    #print(metrics.mean_squared_error(y_test,predicted_y))\n",
        "\n",
        "  \n",
        "    # #add evaluation metrics to row\n",
        "    \n",
        "    #besides precision, recall, and fscore, append other metrics\n",
        "    eval_result_list.append(metrics.mean_squared_error(y_test,predicted_y))\n",
        "    eval_result_list.append(metrics.accuracy_score(y_test,predicted_y))\n",
        "  \n",
        "    # # #add row to data frame\n",
        "    result = pd.DataFrame([eval_result_list],columns = results_col)\n",
        "    results = results.append(result,ignore_index=True)\n",
        "    # # #empty out eval_result_list\n",
        "  return results"
      ],
      "execution_count": null,
      "outputs": []
    },
    {
      "cell_type": "code",
      "metadata": {
        "id": "fXeQ8pUxrvrv",
        "colab": {
          "base_uri": "https://localhost:8080/",
          "height": 1000
        },
        "outputId": "0983c3ea-f6db-42eb-ec06-fe24382c3360"
      },
      "source": [
        "cnn_table(dow_324, dow_323, afunc=\"relu\" )"
      ],
      "execution_count": null,
      "outputs": [
        {
          "output_type": "stream",
          "text": [
            "/usr/local/lib/python3.6/dist-packages/ipykernel_launcher.py:9: FutureWarning: Support for multi-dimensional indexing (e.g. `obj[:, None]`) is deprecated and will be removed in a future version.  Convert to a numpy array before indexing instead.\n",
            "  if __name__ == '__main__':\n"
          ],
          "name": "stderr"
        },
        {
          "output_type": "stream",
          "text": [
            "Epoch 1/10\n",
            "24/24 [==============================] - 0s 2ms/step - loss: 1.1047 - accuracy: 0.7064\n",
            "Epoch 2/10\n",
            "24/24 [==============================] - 0s 1ms/step - loss: 0.2450 - accuracy: 0.7099\n",
            "Epoch 3/10\n",
            "24/24 [==============================] - 0s 1ms/step - loss: 4.1242e-08 - accuracy: 0.7099\n",
            "Epoch 4/10\n",
            "24/24 [==============================] - 0s 1ms/step - loss: 4.1242e-08 - accuracy: 0.7099\n",
            "Epoch 5/10\n",
            "24/24 [==============================] - 0s 1ms/step - loss: 4.1242e-08 - accuracy: 0.7099\n",
            "Epoch 6/10\n",
            "24/24 [==============================] - 0s 1ms/step - loss: 4.1242e-08 - accuracy: 0.7099\n",
            "Epoch 7/10\n",
            "24/24 [==============================] - 0s 1ms/step - loss: 4.1242e-08 - accuracy: 0.7099\n",
            "Epoch 8/10\n",
            "24/24 [==============================] - 0s 1ms/step - loss: 4.1242e-08 - accuracy: 0.7099\n",
            "Epoch 9/10\n",
            "24/24 [==============================] - 0s 1ms/step - loss: 4.1242e-08 - accuracy: 0.7099\n",
            "Epoch 10/10\n",
            "24/24 [==============================] - 0s 1ms/step - loss: 4.1242e-08 - accuracy: 0.7099\n"
          ],
          "name": "stdout"
        },
        {
          "output_type": "stream",
          "text": [
            "/usr/local/lib/python3.6/dist-packages/ipykernel_launcher.py:41: FutureWarning: Support for multi-dimensional indexing (e.g. `obj[:, None]`) is deprecated and will be removed in a future version.  Convert to a numpy array before indexing instead.\n",
            "/usr/local/lib/python3.6/dist-packages/ipykernel_launcher.py:11: DeprecationWarning: The default dtype for empty Series will be 'object' instead of 'float64' in a future version. Specify a dtype explicitly to silence this warning.\n",
            "  # This is added back by InteractiveShellApp.init_path()\n",
            "/usr/local/lib/python3.6/dist-packages/ipykernel_launcher.py:9: FutureWarning: Support for multi-dimensional indexing (e.g. `obj[:, None]`) is deprecated and will be removed in a future version.  Convert to a numpy array before indexing instead.\n",
            "  if __name__ == '__main__':\n"
          ],
          "name": "stderr"
        },
        {
          "output_type": "stream",
          "text": [
            "Epoch 1/10\n",
            "24/24 [==============================] - 0s 1ms/step - loss: 0.5239 - accuracy: 0.1794\n",
            "Epoch 2/10\n",
            "24/24 [==============================] - 0s 2ms/step - loss: 1.0068e-04 - accuracy: 0.1815\n",
            "Epoch 3/10\n",
            "24/24 [==============================] - 0s 1ms/step - loss: 2.8386e-07 - accuracy: 0.1815\n",
            "Epoch 4/10\n",
            "24/24 [==============================] - 0s 1ms/step - loss: 0.0026 - accuracy: 0.1815\n",
            "Epoch 5/10\n",
            "24/24 [==============================] - 0s 2ms/step - loss: 2.8386e-07 - accuracy: 0.1815\n",
            "Epoch 6/10\n",
            "24/24 [==============================] - 0s 1ms/step - loss: 8.3891e-04 - accuracy: 0.1815\n",
            "Epoch 7/10\n",
            "24/24 [==============================] - 0s 2ms/step - loss: 2.8386e-07 - accuracy: 0.1815\n",
            "Epoch 8/10\n",
            "24/24 [==============================] - 0s 2ms/step - loss: 6.3347e-04 - accuracy: 0.1815\n",
            "Epoch 9/10\n",
            "24/24 [==============================] - 0s 2ms/step - loss: 2.8386e-07 - accuracy: 0.1815\n",
            "Epoch 10/10\n",
            "24/24 [==============================] - 0s 1ms/step - loss: 2.8386e-07 - accuracy: 0.1815\n"
          ],
          "name": "stdout"
        },
        {
          "output_type": "stream",
          "text": [
            "/usr/local/lib/python3.6/dist-packages/ipykernel_launcher.py:41: FutureWarning: Support for multi-dimensional indexing (e.g. `obj[:, None]`) is deprecated and will be removed in a future version.  Convert to a numpy array before indexing instead.\n",
            "/usr/local/lib/python3.6/dist-packages/ipykernel_launcher.py:11: DeprecationWarning: The default dtype for empty Series will be 'object' instead of 'float64' in a future version. Specify a dtype explicitly to silence this warning.\n",
            "  # This is added back by InteractiveShellApp.init_path()\n",
            "/usr/local/lib/python3.6/dist-packages/ipykernel_launcher.py:9: FutureWarning: Support for multi-dimensional indexing (e.g. `obj[:, None]`) is deprecated and will be removed in a future version.  Convert to a numpy array before indexing instead.\n",
            "  if __name__ == '__main__':\n"
          ],
          "name": "stderr"
        },
        {
          "output_type": "stream",
          "text": [
            "Epoch 1/10\n",
            "23/23 [==============================] - 0s 1ms/step - loss: 23.0059 - accuracy: 0.0000e+00\n",
            "Epoch 2/10\n",
            "23/23 [==============================] - 0s 1ms/step - loss: 1.7176e-06 - accuracy: 0.0000e+00\n",
            "Epoch 3/10\n",
            "23/23 [==============================] - 0s 971us/step - loss: 1.7176e-06 - accuracy: 0.0000e+00\n",
            "Epoch 4/10\n",
            "23/23 [==============================] - 0s 1ms/step - loss: 1.7176e-06 - accuracy: 0.0000e+00\n",
            "Epoch 5/10\n",
            "23/23 [==============================] - 0s 1ms/step - loss: 1.7176e-06 - accuracy: 0.0000e+00\n",
            "Epoch 6/10\n",
            "23/23 [==============================] - 0s 1ms/step - loss: 1.7176e-06 - accuracy: 0.0000e+00\n",
            "Epoch 7/10\n",
            "23/23 [==============================] - 0s 2ms/step - loss: 1.7176e-06 - accuracy: 0.0000e+00\n",
            "Epoch 8/10\n",
            "23/23 [==============================] - 0s 1ms/step - loss: 1.7176e-06 - accuracy: 0.0000e+00\n",
            "Epoch 9/10\n",
            "23/23 [==============================] - 0s 2ms/step - loss: 1.7176e-06 - accuracy: 0.0000e+00\n",
            "Epoch 10/10\n",
            "23/23 [==============================] - 0s 1ms/step - loss: 1.7176e-06 - accuracy: 0.0000e+00\n"
          ],
          "name": "stdout"
        },
        {
          "output_type": "stream",
          "text": [
            "/usr/local/lib/python3.6/dist-packages/ipykernel_launcher.py:41: FutureWarning: Support for multi-dimensional indexing (e.g. `obj[:, None]`) is deprecated and will be removed in a future version.  Convert to a numpy array before indexing instead.\n",
            "/usr/local/lib/python3.6/dist-packages/ipykernel_launcher.py:11: DeprecationWarning: The default dtype for empty Series will be 'object' instead of 'float64' in a future version. Specify a dtype explicitly to silence this warning.\n",
            "  # This is added back by InteractiveShellApp.init_path()\n"
          ],
          "name": "stderr"
        },
        {
          "output_type": "execute_result",
          "data": {
            "text/html": [
              "<div>\n",
              "<style scoped>\n",
              "    .dataframe tbody tr th:only-of-type {\n",
              "        vertical-align: middle;\n",
              "    }\n",
              "\n",
              "    .dataframe tbody tr th {\n",
              "        vertical-align: top;\n",
              "    }\n",
              "\n",
              "    .dataframe thead th {\n",
              "        text-align: right;\n",
              "    }\n",
              "</style>\n",
              "<table border=\"1\" class=\"dataframe\">\n",
              "  <thead>\n",
              "    <tr style=\"text-align: right;\">\n",
              "      <th></th>\n",
              "      <th>periods_name</th>\n",
              "      <th>periods</th>\n",
              "      <th>RMSE</th>\n",
              "      <th>r2</th>\n",
              "      <th>mse</th>\n",
              "      <th>accuracy_score</th>\n",
              "    </tr>\n",
              "  </thead>\n",
              "  <tbody>\n",
              "    <tr>\n",
              "      <th>0</th>\n",
              "      <td>10 s</td>\n",
              "      <td>1</td>\n",
              "      <td>0.000371</td>\n",
              "      <td>0.0</td>\n",
              "      <td>0.226733</td>\n",
              "      <td>0.773267</td>\n",
              "    </tr>\n",
              "    <tr>\n",
              "      <th>1</th>\n",
              "      <td>1 minutes</td>\n",
              "      <td>6</td>\n",
              "      <td>0.000950</td>\n",
              "      <td>0.0</td>\n",
              "      <td>0.451849</td>\n",
              "      <td>0.548151</td>\n",
              "    </tr>\n",
              "    <tr>\n",
              "      <th>2</th>\n",
              "      <td>5 minutes</td>\n",
              "      <td>30</td>\n",
              "      <td>0.001694</td>\n",
              "      <td>0.0</td>\n",
              "      <td>0.582279</td>\n",
              "      <td>0.417721</td>\n",
              "    </tr>\n",
              "  </tbody>\n",
              "</table>\n",
              "</div>"
            ],
            "text/plain": [
              "  periods_name periods      RMSE   r2       mse  accuracy_score\n",
              "0         10 s       1  0.000371  0.0  0.226733        0.773267\n",
              "1    1 minutes       6  0.000950  0.0  0.451849        0.548151\n",
              "2    5 minutes      30  0.001694  0.0  0.582279        0.417721"
            ]
          },
          "metadata": {
            "tags": []
          },
          "execution_count": 19
        }
      ]
    },
    {
      "cell_type": "code",
      "metadata": {
        "id": "7NgNavxZ4FAr"
      },
      "source": [
        ""
      ],
      "execution_count": null,
      "outputs": []
    },
    {
      "cell_type": "markdown",
      "metadata": {
        "id": "RN7IxfEI4FUA"
      },
      "source": [
        "## LSTM"
      ]
    },
    {
      "cell_type": "code",
      "metadata": {
        "id": "RCi3VViCzDVd"
      },
      "source": [
        "\n",
        "# Initialize the layers\n",
        "def createSequentialModel(input_size, activation_function, num_hidden_layers, layer_neurons, dropout):   # softsign\n",
        "\n",
        "    model = Sequential()\n",
        "    model.add(LSTM(\n",
        "        input_dim= input_size,\n",
        "        units=5,\n",
        "        return_sequences=True))\n",
        "    model.add(Dropout(dropout))\n",
        "\n",
        "    for i in range(num_hidden_layers):\n",
        "                \n",
        "        model.add(LSTM(layer_neurons, return_sequences=True))\n",
        "\n",
        "        model.add(Dropout(dropout))\n",
        "\n",
        "        model.add(Dense(units=1, activation = activation_function))\n",
        "\n",
        "        print('Compiling model...')\n",
        "        model.compile(loss='mse', optimizer='SGD')\n",
        "    \n",
        "    return model"
      ],
      "execution_count": null,
      "outputs": []
    },
    {
      "cell_type": "code",
      "metadata": {
        "id": "FmiKvUXrym35"
      },
      "source": [
        "def lstm_table(df, df_P, ticker = 'WMT', afunc=\"relu\", n_hl=1, n_neurons=20, dp=0.1):  # df_previousDay, df_nextDay,\n",
        "\n",
        "  from sklearn import metrics\n",
        "  from math import sqrt\n",
        "  import sys\n",
        "\n",
        "\n",
        "\n",
        "  period_list = {\n",
        "    \"10 s\": 1,\n",
        "    '1 minutes':6,\n",
        "    '5 minutes':30\n",
        "}\n",
        "\n",
        "  results_col=[\"periods_name\",\"periods\",\"RMSE\", \"r2\", \n",
        "              \"mse\", \"accuracy_score\"\n",
        "            ]\n",
        "  results = pd.DataFrame(columns = results_col)\n",
        "\n",
        "\n",
        "  for key, value in period_list.items():\n",
        " \n",
        "    get_df = read_stock(df_P, ticker= ticker, n_period= value, n_shift=-1)\n",
        "    get_df.dropna(how = \"any\", inplace = True)\n",
        "    norm_train_data = get_df.loc[:,[\"VOI\",\"OIR\", \"bid_ask_spread\", \"EWM\", \"OBV\"]]\n",
        "    norm_train_data = norm_train_data.to_numpy()\n",
        "    norm_train_target = get_df[\"return\"][:, None]\n",
        "    model=createSequentialModel(norm_train_data.shape[1], activation_function=afunc, num_hidden_layers=n_hl, layer_neurons=n_neurons, dropout=dp)\n",
        "\n",
        "    lstm_train_data= norm_train_data.reshape(norm_train_data.shape[0],1, norm_train_data.shape[1])   # 23 (2284, 1, 5)\n",
        "    \n",
        "    \n",
        "    history= model.fit(\n",
        "    lstm_train_data,\n",
        "    norm_train_target,\n",
        "    batch_size=100,\n",
        "    epochs= 30,\n",
        "    validation_split=0.2, shuffle = False)\n",
        "\n",
        "    \n",
        "    get_df24 = read_stock(df, ticker= ticker, n_period= value, n_shift=-1)\n",
        "    get_df24.dropna(how = \"any\", inplace = True)\n",
        "\n",
        "    norm_test_data = get_df24.loc[:,[\"VOI\",\"OIR\", \"bid_ask_spread\", \"EWM\", \"OBV\"]] #scale df_nextDay\n",
        "    norm_test_data = norm_test_data.to_numpy()\n",
        "    lstm_test_data= norm_test_data.reshape(norm_test_data.shape[0],1, norm_test_data.shape[1])    # (2099, 1, 5)\n",
        "    norm_test_target = get_df24[\"return\"][:, None]\n",
        "\n",
        "    y_predict=model.predict(lstm_test_data)    # (2099, 1, 1)\n",
        "    y_predict=y_predict.reshape((y_predict.shape[0], -1), order='F')   # (2099, 1)\n",
        "    score = [sqrt(metrics.mean_squared_error(norm_test_target, y_predict)), metrics.r2_score(norm_test_target, y_predict)]\n",
        "    rf_result_list = [key,value,score[0],score[1]]\n",
        "    \n",
        "    eval_result_list = rf_result_list[:]\n",
        "\n",
        "    # # #-----------------------------------\n",
        "    # X_test, y_test = RF_crossval(df,n_periods = value) #manipulate data for deep learning\n",
        "    # X_test = X_test.to_numpy()\n",
        "    #X_test = X_test.reshape(X_test.shape[0],1, X_test.shape[1])\n",
        "    #predicted_y = model.predict(X_test) #prediction\n",
        "    predicted_y = np.where(np.array(y_predict) > 0, 1, 0)\n",
        "    norm_test_target = np.where(np.array(norm_test_target) > 0, 1, 0)\n",
        "    #print(\"Prediction results using Deep Learning is....\")\n",
        "    #print(metrics.mean_squared_error(y_test,predicted_y))\n",
        "\n",
        "  \n",
        "    # #add evaluation metrics to row\n",
        "    \n",
        "    #besides precision, recall, and fscore, append other metrics\n",
        "    eval_result_list.append(metrics.mean_squared_error(norm_test_target, predicted_y))\n",
        "    eval_result_list.append(metrics.accuracy_score(norm_test_target, predicted_y))\n",
        "  \n",
        "    # # #add row to data frame\n",
        "    result = pd.DataFrame([eval_result_list],columns = results_col)\n",
        "    results = results.append(result,ignore_index=True)\n",
        "    # # #empty out eval_result_list\n",
        "  return results"
      ],
      "execution_count": null,
      "outputs": []
    },
    {
      "cell_type": "code",
      "metadata": {
        "id": "bez0cuRJz1wl",
        "colab": {
          "base_uri": "https://localhost:8080/",
          "height": 1000
        },
        "outputId": "e71a557f-2a70-4ffc-c9f5-ac0100c676cc"
      },
      "source": [
        "lstm_table(dow_324, dow_323, ticker = 'WMT', afunc=\"softsign\", n_hl=1, n_neurons=20, dp=0.1)"
      ],
      "execution_count": null,
      "outputs": [
        {
          "output_type": "stream",
          "text": [
            "/usr/local/lib/python3.6/dist-packages/ipykernel_launcher.py:27: FutureWarning: Support for multi-dimensional indexing (e.g. `obj[:, None]`) is deprecated and will be removed in a future version.  Convert to a numpy array before indexing instead.\n"
          ],
          "name": "stderr"
        },
        {
          "output_type": "stream",
          "text": [
            "Compiling model...\n",
            "Epoch 1/30\n",
            "19/19 [==============================] - 1s 39ms/step - loss: 0.0034 - val_loss: 0.0021\n",
            "Epoch 2/30\n",
            "19/19 [==============================] - 0s 3ms/step - loss: 0.0025 - val_loss: 0.0014\n",
            "Epoch 3/30\n",
            "19/19 [==============================] - 0s 3ms/step - loss: 0.0020 - val_loss: 0.0011\n",
            "Epoch 4/30\n",
            "19/19 [==============================] - 0s 3ms/step - loss: 0.0018 - val_loss: 9.4935e-04\n",
            "Epoch 5/30\n",
            "19/19 [==============================] - 0s 3ms/step - loss: 0.0017 - val_loss: 8.8350e-04\n",
            "Epoch 6/30\n",
            "19/19 [==============================] - 0s 3ms/step - loss: 0.0016 - val_loss: 8.5154e-04\n",
            "Epoch 7/30\n",
            "19/19 [==============================] - 0s 3ms/step - loss: 0.0017 - val_loss: 8.3186e-04\n",
            "Epoch 8/30\n",
            "19/19 [==============================] - 0s 3ms/step - loss: 0.0016 - val_loss: 8.1745e-04\n",
            "Epoch 9/30\n",
            "19/19 [==============================] - 0s 3ms/step - loss: 0.0016 - val_loss: 8.0226e-04\n",
            "Epoch 10/30\n",
            "19/19 [==============================] - 0s 3ms/step - loss: 0.0016 - val_loss: 7.9140e-04\n",
            "Epoch 11/30\n",
            "19/19 [==============================] - 0s 3ms/step - loss: 0.0015 - val_loss: 7.7987e-04\n",
            "Epoch 12/30\n",
            "19/19 [==============================] - 0s 3ms/step - loss: 0.0015 - val_loss: 7.6886e-04\n",
            "Epoch 13/30\n",
            "19/19 [==============================] - 0s 4ms/step - loss: 0.0016 - val_loss: 7.5793e-04\n",
            "Epoch 14/30\n",
            "19/19 [==============================] - 0s 3ms/step - loss: 0.0015 - val_loss: 7.4823e-04\n",
            "Epoch 15/30\n",
            "19/19 [==============================] - 0s 3ms/step - loss: 0.0014 - val_loss: 7.3806e-04\n",
            "Epoch 16/30\n",
            "19/19 [==============================] - 0s 3ms/step - loss: 0.0015 - val_loss: 7.2762e-04\n",
            "Epoch 17/30\n",
            "19/19 [==============================] - 0s 3ms/step - loss: 0.0015 - val_loss: 7.1766e-04\n",
            "Epoch 18/30\n",
            "19/19 [==============================] - 0s 3ms/step - loss: 0.0013 - val_loss: 7.0822e-04\n",
            "Epoch 19/30\n",
            "19/19 [==============================] - 0s 3ms/step - loss: 0.0013 - val_loss: 6.9933e-04\n",
            "Epoch 20/30\n",
            "19/19 [==============================] - 0s 3ms/step - loss: 0.0014 - val_loss: 6.8996e-04\n",
            "Epoch 21/30\n",
            "19/19 [==============================] - 0s 3ms/step - loss: 0.0013 - val_loss: 6.8135e-04\n",
            "Epoch 22/30\n",
            "19/19 [==============================] - 0s 3ms/step - loss: 0.0014 - val_loss: 6.7217e-04\n",
            "Epoch 23/30\n",
            "19/19 [==============================] - 0s 3ms/step - loss: 0.0014 - val_loss: 6.6232e-04\n",
            "Epoch 24/30\n",
            "19/19 [==============================] - 0s 3ms/step - loss: 0.0014 - val_loss: 6.5282e-04\n",
            "Epoch 25/30\n",
            "19/19 [==============================] - 0s 3ms/step - loss: 0.0013 - val_loss: 6.4413e-04\n",
            "Epoch 26/30\n",
            "19/19 [==============================] - 0s 3ms/step - loss: 0.0013 - val_loss: 6.3552e-04\n",
            "Epoch 27/30\n",
            "19/19 [==============================] - 0s 3ms/step - loss: 0.0013 - val_loss: 6.2653e-04\n",
            "Epoch 28/30\n",
            "19/19 [==============================] - 0s 3ms/step - loss: 0.0012 - val_loss: 6.1819e-04\n",
            "Epoch 29/30\n",
            "19/19 [==============================] - 0s 3ms/step - loss: 0.0012 - val_loss: 6.1041e-04\n",
            "Epoch 30/30\n",
            "19/19 [==============================] - 0s 3ms/step - loss: 0.0013 - val_loss: 6.0079e-04\n"
          ],
          "name": "stdout"
        },
        {
          "output_type": "stream",
          "text": [
            "/usr/local/lib/python3.6/dist-packages/ipykernel_launcher.py:47: FutureWarning: Support for multi-dimensional indexing (e.g. `obj[:, None]`) is deprecated and will be removed in a future version.  Convert to a numpy array before indexing instead.\n",
            "/usr/local/lib/python3.6/dist-packages/ipykernel_launcher.py:27: FutureWarning: Support for multi-dimensional indexing (e.g. `obj[:, None]`) is deprecated and will be removed in a future version.  Convert to a numpy array before indexing instead.\n"
          ],
          "name": "stderr"
        },
        {
          "output_type": "stream",
          "text": [
            "Compiling model...\n",
            "Epoch 1/30\n",
            "19/19 [==============================] - 1s 37ms/step - loss: 2.3522e-04 - val_loss: 2.1374e-04\n",
            "Epoch 2/30\n",
            "19/19 [==============================] - 0s 3ms/step - loss: 2.2892e-04 - val_loss: 1.9769e-04\n",
            "Epoch 3/30\n",
            "19/19 [==============================] - 0s 3ms/step - loss: 2.3376e-04 - val_loss: 1.9047e-04\n",
            "Epoch 4/30\n",
            "19/19 [==============================] - 0s 3ms/step - loss: 2.0755e-04 - val_loss: 1.8628e-04\n",
            "Epoch 5/30\n",
            "19/19 [==============================] - 0s 3ms/step - loss: 2.1715e-04 - val_loss: 1.8370e-04\n",
            "Epoch 6/30\n",
            "19/19 [==============================] - 0s 3ms/step - loss: 2.1179e-04 - val_loss: 1.8185e-04\n",
            "Epoch 7/30\n",
            "19/19 [==============================] - 0s 3ms/step - loss: 2.1140e-04 - val_loss: 1.8043e-04\n",
            "Epoch 8/30\n",
            "19/19 [==============================] - 0s 3ms/step - loss: 2.0310e-04 - val_loss: 1.7942e-04\n",
            "Epoch 9/30\n",
            "19/19 [==============================] - 0s 3ms/step - loss: 2.1243e-04 - val_loss: 1.7817e-04\n",
            "Epoch 10/30\n",
            "19/19 [==============================] - 0s 3ms/step - loss: 2.1446e-04 - val_loss: 1.7717e-04\n",
            "Epoch 11/30\n",
            "19/19 [==============================] - 0s 3ms/step - loss: 2.0736e-04 - val_loss: 1.7623e-04\n",
            "Epoch 12/30\n",
            "19/19 [==============================] - 0s 3ms/step - loss: 2.0048e-04 - val_loss: 1.7548e-04\n",
            "Epoch 13/30\n",
            "19/19 [==============================] - 0s 3ms/step - loss: 2.1485e-04 - val_loss: 1.7444e-04\n",
            "Epoch 14/30\n",
            "19/19 [==============================] - 0s 3ms/step - loss: 2.0561e-04 - val_loss: 1.7354e-04\n",
            "Epoch 15/30\n",
            "19/19 [==============================] - 0s 3ms/step - loss: 2.0776e-04 - val_loss: 1.7254e-04\n",
            "Epoch 16/30\n",
            "19/19 [==============================] - 0s 3ms/step - loss: 1.9245e-04 - val_loss: 1.7199e-04\n",
            "Epoch 17/30\n",
            "19/19 [==============================] - 0s 3ms/step - loss: 2.0162e-04 - val_loss: 1.7104e-04\n",
            "Epoch 18/30\n",
            "19/19 [==============================] - 0s 3ms/step - loss: 2.0791e-04 - val_loss: 1.7011e-04\n",
            "Epoch 19/30\n",
            "19/19 [==============================] - 0s 2ms/step - loss: 1.9909e-04 - val_loss: 1.6909e-04\n",
            "Epoch 20/30\n",
            "19/19 [==============================] - 0s 2ms/step - loss: 2.0000e-04 - val_loss: 1.6805e-04\n",
            "Epoch 21/30\n",
            "19/19 [==============================] - 0s 3ms/step - loss: 1.9964e-04 - val_loss: 1.6725e-04\n",
            "Epoch 22/30\n",
            "19/19 [==============================] - 0s 2ms/step - loss: 1.9645e-04 - val_loss: 1.6644e-04\n",
            "Epoch 23/30\n",
            "19/19 [==============================] - 0s 2ms/step - loss: 2.0892e-04 - val_loss: 1.6559e-04\n",
            "Epoch 24/30\n",
            "19/19 [==============================] - 0s 2ms/step - loss: 1.9325e-04 - val_loss: 1.6480e-04\n",
            "Epoch 25/30\n",
            "19/19 [==============================] - 0s 2ms/step - loss: 1.8119e-04 - val_loss: 1.6397e-04\n",
            "Epoch 26/30\n",
            "19/19 [==============================] - 0s 2ms/step - loss: 1.9118e-04 - val_loss: 1.6305e-04\n",
            "Epoch 27/30\n",
            "19/19 [==============================] - 0s 2ms/step - loss: 1.8984e-04 - val_loss: 1.6232e-04\n",
            "Epoch 28/30\n",
            "19/19 [==============================] - 0s 2ms/step - loss: 1.8986e-04 - val_loss: 1.6158e-04\n",
            "Epoch 29/30\n",
            "19/19 [==============================] - 0s 2ms/step - loss: 1.8824e-04 - val_loss: 1.6068e-04\n",
            "Epoch 30/30\n",
            "19/19 [==============================] - 0s 2ms/step - loss: 1.9109e-04 - val_loss: 1.5982e-04\n"
          ],
          "name": "stdout"
        },
        {
          "output_type": "stream",
          "text": [
            "/usr/local/lib/python3.6/dist-packages/ipykernel_launcher.py:47: FutureWarning: Support for multi-dimensional indexing (e.g. `obj[:, None]`) is deprecated and will be removed in a future version.  Convert to a numpy array before indexing instead.\n",
            "/usr/local/lib/python3.6/dist-packages/ipykernel_launcher.py:27: FutureWarning: Support for multi-dimensional indexing (e.g. `obj[:, None]`) is deprecated and will be removed in a future version.  Convert to a numpy array before indexing instead.\n"
          ],
          "name": "stderr"
        },
        {
          "output_type": "stream",
          "text": [
            "Compiling model...\n",
            "Epoch 1/30\n",
            "19/19 [==============================] - 1s 41ms/step - loss: 0.0041 - val_loss: 0.0030\n",
            "Epoch 2/30\n",
            "19/19 [==============================] - 0s 3ms/step - loss: 0.0028 - val_loss: 0.0020\n",
            "Epoch 3/30\n",
            "19/19 [==============================] - 0s 3ms/step - loss: 0.0022 - val_loss: 0.0015\n",
            "Epoch 4/30\n",
            "19/19 [==============================] - 0s 3ms/step - loss: 0.0018 - val_loss: 0.0012\n",
            "Epoch 5/30\n",
            "19/19 [==============================] - 0s 3ms/step - loss: 0.0016 - val_loss: 0.0010\n",
            "Epoch 6/30\n",
            "19/19 [==============================] - 0s 3ms/step - loss: 0.0014 - val_loss: 9.4833e-04\n",
            "Epoch 7/30\n",
            "19/19 [==============================] - 0s 3ms/step - loss: 0.0014 - val_loss: 8.8045e-04\n",
            "Epoch 8/30\n",
            "19/19 [==============================] - 0s 3ms/step - loss: 0.0013 - val_loss: 8.3506e-04\n",
            "Epoch 9/30\n",
            "19/19 [==============================] - 0s 3ms/step - loss: 0.0013 - val_loss: 8.0088e-04\n",
            "Epoch 10/30\n",
            "19/19 [==============================] - 0s 3ms/step - loss: 0.0012 - val_loss: 7.7405e-04\n",
            "Epoch 11/30\n",
            "19/19 [==============================] - 0s 3ms/step - loss: 0.0012 - val_loss: 7.5225e-04\n",
            "Epoch 12/30\n",
            "19/19 [==============================] - 0s 3ms/step - loss: 0.0012 - val_loss: 7.3405e-04\n",
            "Epoch 13/30\n",
            "19/19 [==============================] - 0s 3ms/step - loss: 0.0011 - val_loss: 7.1855e-04\n",
            "Epoch 14/30\n",
            "19/19 [==============================] - 0s 3ms/step - loss: 0.0011 - val_loss: 7.0437e-04\n",
            "Epoch 15/30\n",
            "19/19 [==============================] - 0s 3ms/step - loss: 0.0011 - val_loss: 6.9063e-04\n",
            "Epoch 16/30\n",
            "19/19 [==============================] - 0s 3ms/step - loss: 0.0011 - val_loss: 6.7687e-04\n",
            "Epoch 17/30\n",
            "19/19 [==============================] - 0s 3ms/step - loss: 0.0011 - val_loss: 6.6497e-04\n",
            "Epoch 18/30\n",
            "19/19 [==============================] - 0s 3ms/step - loss: 0.0011 - val_loss: 6.5211e-04\n",
            "Epoch 19/30\n",
            "19/19 [==============================] - 0s 3ms/step - loss: 0.0010 - val_loss: 6.4099e-04\n",
            "Epoch 20/30\n",
            "19/19 [==============================] - 0s 3ms/step - loss: 9.9286e-04 - val_loss: 6.3040e-04\n",
            "Epoch 21/30\n",
            "19/19 [==============================] - 0s 3ms/step - loss: 9.9840e-04 - val_loss: 6.1988e-04\n",
            "Epoch 22/30\n",
            "19/19 [==============================] - 0s 2ms/step - loss: 9.8251e-04 - val_loss: 6.1017e-04\n",
            "Epoch 23/30\n",
            "19/19 [==============================] - 0s 2ms/step - loss: 9.3353e-04 - val_loss: 6.0076e-04\n",
            "Epoch 24/30\n",
            "19/19 [==============================] - 0s 2ms/step - loss: 9.6170e-04 - val_loss: 5.9069e-04\n",
            "Epoch 25/30\n",
            "19/19 [==============================] - 0s 3ms/step - loss: 9.1858e-04 - val_loss: 5.8090e-04\n",
            "Epoch 26/30\n",
            "19/19 [==============================] - 0s 3ms/step - loss: 9.0619e-04 - val_loss: 5.7201e-04\n",
            "Epoch 27/30\n",
            "19/19 [==============================] - 0s 3ms/step - loss: 9.2950e-04 - val_loss: 5.6268e-04\n",
            "Epoch 28/30\n",
            "19/19 [==============================] - 0s 3ms/step - loss: 9.0194e-04 - val_loss: 5.5486e-04\n",
            "Epoch 29/30\n",
            "19/19 [==============================] - 0s 3ms/step - loss: 9.0208e-04 - val_loss: 5.4516e-04\n",
            "Epoch 30/30\n",
            "19/19 [==============================] - 0s 3ms/step - loss: 8.6887e-04 - val_loss: 5.3543e-04\n"
          ],
          "name": "stdout"
        },
        {
          "output_type": "stream",
          "text": [
            "/usr/local/lib/python3.6/dist-packages/ipykernel_launcher.py:47: FutureWarning: Support for multi-dimensional indexing (e.g. `obj[:, None]`) is deprecated and will be removed in a future version.  Convert to a numpy array before indexing instead.\n"
          ],
          "name": "stderr"
        },
        {
          "output_type": "execute_result",
          "data": {
            "text/html": [
              "<div>\n",
              "<style scoped>\n",
              "    .dataframe tbody tr th:only-of-type {\n",
              "        vertical-align: middle;\n",
              "    }\n",
              "\n",
              "    .dataframe tbody tr th {\n",
              "        vertical-align: top;\n",
              "    }\n",
              "\n",
              "    .dataframe thead th {\n",
              "        text-align: right;\n",
              "    }\n",
              "</style>\n",
              "<table border=\"1\" class=\"dataframe\">\n",
              "  <thead>\n",
              "    <tr style=\"text-align: right;\">\n",
              "      <th></th>\n",
              "      <th>periods_name</th>\n",
              "      <th>periods</th>\n",
              "      <th>RMSE</th>\n",
              "      <th>r2</th>\n",
              "      <th>mse</th>\n",
              "      <th>accuracy_score</th>\n",
              "    </tr>\n",
              "  </thead>\n",
              "  <tbody>\n",
              "    <tr>\n",
              "      <th>0</th>\n",
              "      <td>10 s</td>\n",
              "      <td>1</td>\n",
              "      <td>0.022109</td>\n",
              "      <td>-3544.055404</td>\n",
              "      <td>0.278195</td>\n",
              "      <td>0.721805</td>\n",
              "    </tr>\n",
              "    <tr>\n",
              "      <th>1</th>\n",
              "      <td>1 minutes</td>\n",
              "      <td>6</td>\n",
              "      <td>0.010870</td>\n",
              "      <td>-130.165185</td>\n",
              "      <td>0.429110</td>\n",
              "      <td>0.570890</td>\n",
              "    </tr>\n",
              "    <tr>\n",
              "      <th>2</th>\n",
              "      <td>5 minutes</td>\n",
              "      <td>30</td>\n",
              "      <td>0.022808</td>\n",
              "      <td>-190.608657</td>\n",
              "      <td>0.571224</td>\n",
              "      <td>0.428776</td>\n",
              "    </tr>\n",
              "  </tbody>\n",
              "</table>\n",
              "</div>"
            ],
            "text/plain": [
              "  periods_name periods      RMSE           r2       mse  accuracy_score\n",
              "0         10 s       1  0.022109 -3544.055404  0.278195        0.721805\n",
              "1    1 minutes       6  0.010870  -130.165185  0.429110        0.570890\n",
              "2    5 minutes      30  0.022808  -190.608657  0.571224        0.428776"
            ]
          },
          "metadata": {
            "tags": []
          },
          "execution_count": 62
        }
      ]
    },
    {
      "cell_type": "code",
      "metadata": {
        "id": "k4k_o0EMLtEH"
      },
      "source": [
        ""
      ],
      "execution_count": null,
      "outputs": []
    }
  ]
}